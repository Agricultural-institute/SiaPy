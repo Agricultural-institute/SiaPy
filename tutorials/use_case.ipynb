{
 "cells": [
  {
   "cell_type": "markdown",
   "metadata": {},
   "source": [
    "# In the making...\n",
    "\n",
    "\n",
    "- Check labels\n",
    "```\n",
    "$ python3 main.py program=check_images\n",
    "```\n",
    "\n",
    "- Show image\n",
    "```\n",
    "$ python3 main.py program=show_image image_idx=0\n",
    "```\n",
    "\n",
    "- Corregistrate both cameras:\n",
    "```\n",
    "$ python3 main.py program=corregistrate image_idx=0\n",
    "```\n",
    "\n",
    "- Select signatures\n",
    "```\n",
    "$ python3 main.py program=select_signatures image_idx=0 selector.item=background\n",
    "```\n",
    "```\n",
    "$ python3 main.py program=select_signatures image_idx=0 selector.item=object\n",
    "```\n",
    "\n",
    "- Segmentation\n",
    "```\n",
    "$ python3 main.py program=test_segmentation image_idx=0\n",
    "```\n",
    "```\n",
    "$ python3 main.py program=perform_segmentation image_idx=0\n",
    "```\n",
    "\n",
    "- Prepare dataset\n",
    "```\n",
    "$ python3 main.py program=prepare_data\n",
    "```\n",
    "\n",
    "- Create signatures\n",
    "```\n",
    "$ python3 main.py program=create_signatures\n",
    "```\n",
    "\n",
    "- Visualise signatures\n",
    "```\n",
    "$ python3 main.py program=visualise_signatures\n",
    "```"
   ]
  }
 ],
 "metadata": {
  "kernelspec": {
   "display_name": "Python 3.8.10 ('.venv': venv)",
   "language": "python",
   "name": "python3"
  },
  "language_info": {
   "name": "python",
   "version": "3.8.10"
  },
  "orig_nbformat": 4,
  "vscode": {
   "interpreter": {
    "hash": "9ba3beca984540751b91f550b84e79c9f20ebfc1a7d884c369fb86d9bde14200"
   }
  }
 },
 "nbformat": 4,
 "nbformat_minor": 2
}
